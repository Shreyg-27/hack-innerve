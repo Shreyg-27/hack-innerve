{
  "nbformat": 4,
  "nbformat_minor": 0,
  "metadata": {
    "colab": {
      "provenance": []
    },
    "kernelspec": {
      "name": "python3",
      "display_name": "Python 3"
    },
    "language_info": {
      "name": "python"
    }
  },
  "cells": [
    {
      "cell_type": "code",
      "execution_count": null,
      "metadata": {
        "colab": {
          "base_uri": "https://localhost:8080/"
        },
        "id": "Xjyc0bN4z2_f",
        "outputId": "d37671eb-21cd-46e5-aaa5-35eede5758ab"
      },
      "outputs": [
        {
          "output_type": "stream",
          "name": "stdout",
          "text": [
            "Drive already mounted at /content/drive; to attempt to forcibly remount, call drive.mount(\"/content/drive\", force_remount=True).\n"
          ]
        }
      ],
      "source": [
        "from google.colab import drive\n",
        "drive.mount('/content/drive')"
      ]
    },
    {
      "cell_type": "code",
      "source": [
        "%cd \"/content/drive/MyDrive/recycling waste\""
      ],
      "metadata": {
        "colab": {
          "base_uri": "https://localhost:8080/"
        },
        "id": "Ldy9SlU70CBj",
        "outputId": "bc2c6884-ff8b-4c2b-be21-d35e45bbd7dc"
      },
      "execution_count": null,
      "outputs": [
        {
          "output_type": "stream",
          "name": "stdout",
          "text": [
            "/content/drive/MyDrive/recycling waste\n"
          ]
        }
      ]
    },
    {
      "cell_type": "code",
      "source": [
        "import tensorflow as tf\n",
        "import numpy as np\n",
        "import matplotlib.pyplot as plt"
      ],
      "metadata": {
        "id": "j27Ylim00XXq"
      },
      "execution_count": null,
      "outputs": []
    },
    {
      "cell_type": "code",
      "source": [
        "from tensorflow.keras.preprocessing.image import ImageDataGenerator\n",
        "\n",
        "gen_train = ImageDataGenerator(rescale = 1/255, shear_range = 0.2, zoom_range = 0.2, \n",
        "                               brightness_range = (0.1, 0.5), horizontal_flip=True)\n",
        "\n",
        "train_data = gen_train.flow_from_directory(\"/content/drive/MyDrive/recycling waste\",\n",
        "                                           target_size = (224, 224), batch_size = 32, class_mode=\"categorical\")"
      ],
      "metadata": {
        "id": "INs5ZiLR3Rj9",
        "colab": {
          "base_uri": "https://localhost:8080/"
        },
        "outputId": "1b1079b0-0f3a-479b-99f8-d4a280e2f9f2"
      },
      "execution_count": null,
      "outputs": [
        {
          "output_type": "stream",
          "name": "stdout",
          "text": [
            "Found 43 images belonging to 1 classes.\n"
          ]
        }
      ]
    },
    {
      "cell_type": "code",
      "source": [
        "from tensorflow.keras.applications.vgg16 import VGG16\n",
        "\n",
        "# here i'm going to take input shape, weights and bias from imagenet and include top False means\n",
        "# i want to add input, flatten and output layer by my self\n",
        "\n",
        "vgg16 = VGG16(input_shape = (224, 224, 3), weights = \"imagenet\", include_top = False)"
      ],
      "metadata": {
        "id": "fm6aiqRRGQXd"
      },
      "execution_count": null,
      "outputs": []
    },
    {
      "cell_type": "code",
      "source": [
        "# now vgg16 weights are already train so i don't want to train that weights again\n",
        "# so let's make trainable = False\n",
        "\n",
        "for layer in vgg16.layers:\n",
        "  layer.trainable = False\n"
      ],
      "metadata": {
        "id": "eYd_rANLGbdD"
      },
      "execution_count": null,
      "outputs": []
    },
    {
      "cell_type": "code",
      "source": [
        "from tensorflow.keras import layers\n",
        "\n",
        "x = layers.Flatten()(vgg16.output)"
      ],
      "metadata": {
        "id": "EZ-VqXUgGiqu"
      },
      "execution_count": null,
      "outputs": []
    },
    {
      "cell_type": "code",
      "source": [
        "prediction = layers.Dense(units = 9, activation=\"softmax\")(x)\n",
        "\n",
        "# creating a model object\n",
        "\n",
        "model = tf.keras.models.Model(inputs = vgg16.input, outputs=prediction)\n",
        "model.summary()"
      ],
      "metadata": {
        "colab": {
          "base_uri": "https://localhost:8080/"
        },
        "id": "_OPscUBpGoos",
        "outputId": "b0bd53ab-414a-4af4-d3c8-56d427d61c14"
      },
      "execution_count": null,
      "outputs": [
        {
          "output_type": "stream",
          "name": "stdout",
          "text": [
            "Model: \"model_1\"\n",
            "_________________________________________________________________\n",
            " Layer (type)                Output Shape              Param #   \n",
            "=================================================================\n",
            " input_2 (InputLayer)        [(None, 224, 224, 3)]     0         \n",
            "                                                                 \n",
            " block1_conv1 (Conv2D)       (None, 224, 224, 64)      1792      \n",
            "                                                                 \n",
            " block1_conv2 (Conv2D)       (None, 224, 224, 64)      36928     \n",
            "                                                                 \n",
            " block1_pool (MaxPooling2D)  (None, 112, 112, 64)      0         \n",
            "                                                                 \n",
            " block2_conv1 (Conv2D)       (None, 112, 112, 128)     73856     \n",
            "                                                                 \n",
            " block2_conv2 (Conv2D)       (None, 112, 112, 128)     147584    \n",
            "                                                                 \n",
            " block2_pool (MaxPooling2D)  (None, 56, 56, 128)       0         \n",
            "                                                                 \n",
            " block3_conv1 (Conv2D)       (None, 56, 56, 256)       295168    \n",
            "                                                                 \n",
            " block3_conv2 (Conv2D)       (None, 56, 56, 256)       590080    \n",
            "                                                                 \n",
            " block3_conv3 (Conv2D)       (None, 56, 56, 256)       590080    \n",
            "                                                                 \n",
            " block3_pool (MaxPooling2D)  (None, 28, 28, 256)       0         \n",
            "                                                                 \n",
            " block4_conv1 (Conv2D)       (None, 28, 28, 512)       1180160   \n",
            "                                                                 \n",
            " block4_conv2 (Conv2D)       (None, 28, 28, 512)       2359808   \n",
            "                                                                 \n",
            " block4_conv3 (Conv2D)       (None, 28, 28, 512)       2359808   \n",
            "                                                                 \n",
            " block4_pool (MaxPooling2D)  (None, 14, 14, 512)       0         \n",
            "                                                                 \n",
            " block5_conv1 (Conv2D)       (None, 14, 14, 512)       2359808   \n",
            "                                                                 \n",
            " block5_conv2 (Conv2D)       (None, 14, 14, 512)       2359808   \n",
            "                                                                 \n",
            " block5_conv3 (Conv2D)       (None, 14, 14, 512)       2359808   \n",
            "                                                                 \n",
            " block5_pool (MaxPooling2D)  (None, 7, 7, 512)         0         \n",
            "                                                                 \n",
            " flatten_1 (Flatten)         (None, 25088)             0         \n",
            "                                                                 \n",
            " dense_1 (Dense)             (None, 9)                 225801    \n",
            "                                                                 \n",
            "=================================================================\n",
            "Total params: 14,940,489\n",
            "Trainable params: 225,801\n",
            "Non-trainable params: 14,714,688\n",
            "_________________________________________________________________\n"
          ]
        }
      ]
    },
    {
      "cell_type": "code",
      "source": [
        "model.compile(optimizer=\"adam\", loss=\"categorical_crossentropy\", metrics =[\"accuracy\"])\n",
        "\n",
        "result = model.fit_generator(train_data, epochs = 28, steps_per_epoch=len(train_data))"
      ],
      "metadata": {
        "colab": {
          "base_uri": "https://localhost:8080/"
        },
        "id": "S_VuMRlvGscS",
        "outputId": "08a4fb9f-4144-4a96-8370-33893371afe8"
      },
      "execution_count": null,
      "outputs": [
        {
          "output_type": "stream",
          "name": "stderr",
          "text": [
            "/usr/local/lib/python3.7/dist-packages/ipykernel_launcher.py:3: UserWarning: `Model.fit_generator` is deprecated and will be removed in a future version. Please use `Model.fit`, which supports generators.\n",
            "  This is separate from the ipykernel package so we can avoid doing imports until\n"
          ]
        },
        {
          "output_type": "stream",
          "name": "stdout",
          "text": [
            "Epoch 1/28\n",
            "2/2 [==============================] - 24s 6s/step - loss: 22.3310 - accuracy: 0.0000e+00\n",
            "Epoch 2/28\n",
            "2/2 [==============================] - 23s 16s/step - loss: 22.4925 - accuracy: 0.0000e+00\n",
            "Epoch 3/28\n",
            "2/2 [==============================] - 23s 16s/step - loss: 22.3179 - accuracy: 0.0000e+00\n",
            "Epoch 4/28\n",
            "2/2 [==============================] - 23s 16s/step - loss: 22.4052 - accuracy: 0.0000e+00\n",
            "Epoch 5/28\n",
            "2/2 [==============================] - 24s 6s/step - loss: 22.3664 - accuracy: 0.0000e+00\n",
            "Epoch 6/28\n",
            "2/2 [==============================] - 23s 16s/step - loss: 22.5078 - accuracy: 0.0000e+00\n",
            "Epoch 7/28\n",
            "2/2 [==============================] - 23s 16s/step - loss: 22.5002 - accuracy: 0.0000e+00\n",
            "Epoch 8/28\n",
            "2/2 [==============================] - 23s 16s/step - loss: 22.3789 - accuracy: 0.0000e+00\n",
            "Epoch 9/28\n",
            "2/2 [==============================] - 23s 16s/step - loss: 22.3935 - accuracy: 0.0000e+00\n",
            "Epoch 10/28\n",
            "2/2 [==============================] - 23s 6s/step - loss: 22.4088 - accuracy: 0.0000e+00\n",
            "Epoch 11/28\n",
            "2/2 [==============================] - 25s 18s/step - loss: 22.5011 - accuracy: 0.0000e+00\n",
            "Epoch 12/28\n",
            "2/2 [==============================] - 23s 16s/step - loss: 22.3650 - accuracy: 0.0000e+00\n",
            "Epoch 13/28\n",
            "2/2 [==============================] - 23s 16s/step - loss: 22.2877 - accuracy: 0.0000e+00\n",
            "Epoch 14/28\n",
            "2/2 [==============================] - 23s 16s/step - loss: 22.4260 - accuracy: 0.0000e+00\n",
            "Epoch 15/28\n",
            "2/2 [==============================] - 24s 6s/step - loss: 22.3351 - accuracy: 0.0000e+00\n",
            "Epoch 16/28\n",
            "2/2 [==============================] - 23s 6s/step - loss: 22.4880 - accuracy: 0.0000e+00\n",
            "Epoch 17/28\n",
            "2/2 [==============================] - 26s 6s/step - loss: 22.3112 - accuracy: 0.0000e+00\n",
            "Epoch 18/28\n",
            "2/2 [==============================] - 23s 16s/step - loss: 22.2623 - accuracy: 0.0000e+00\n",
            "Epoch 19/28\n",
            "2/2 [==============================] - 23s 16s/step - loss: 22.3060 - accuracy: 0.0000e+00\n",
            "Epoch 20/28\n",
            "2/2 [==============================] - 23s 16s/step - loss: 22.3265 - accuracy: 0.0000e+00\n",
            "Epoch 21/28\n",
            "2/2 [==============================] - 23s 6s/step - loss: 22.6127 - accuracy: 0.0000e+00\n",
            "Epoch 22/28\n",
            "2/2 [==============================] - 26s 6s/step - loss: 22.3364 - accuracy: 0.0000e+00\n",
            "Epoch 23/28\n",
            "2/2 [==============================] - 23s 16s/step - loss: 22.3638 - accuracy: 0.0000e+00\n",
            "Epoch 24/28\n",
            "2/2 [==============================] - 23s 6s/step - loss: 22.3979 - accuracy: 0.0000e+00\n",
            "Epoch 25/28\n",
            "2/2 [==============================] - 23s 16s/step - loss: 22.2886 - accuracy: 0.0000e+00\n",
            "Epoch 26/28\n",
            "2/2 [==============================] - 23s 16s/step - loss: 22.3884 - accuracy: 0.0000e+00\n",
            "Epoch 27/28\n",
            "2/2 [==============================] - 23s 6s/step - loss: 22.4228 - accuracy: 0.0000e+00\n",
            "Epoch 28/28\n",
            "2/2 [==============================] - 25s 18s/step - loss: 22.4489 - accuracy: 0.0000e+00\n"
          ]
        }
      ]
    },
    {
      "cell_type": "code",
      "source": [
        "from tensorflow.keras.preprocessing import image\n",
        "output_class = [\"batteries\", \"clothes\", \"e-waste\", \"glass\", \"light blubs\", \"metal\", \"organic\", \"paper\", \"plastic\"]\n",
        "def waste_prediction(new_image):\n",
        "  test_image = image.load_img(new_image, target_size = (224,224))\n",
        "  plt.axis(\"off\")\n",
        "  plt.imshow(test_image)\n",
        "  plt.show()\n",
        " \n",
        "  test_image = image.img_to_array(test_image) / 255\n",
        "  test_image = np.expand_dims(test_image, axis=0)\n",
        "\n",
        "  predicted_array = model.predict(test_image)\n",
        "  predicted_value = output_class[np.argmax(predicted_array)]\n",
        "  predicted_accuracy = round(np.max(predicted_array) * 100, 2)\n",
        "\n",
        "  print(\"Your waste material is \", predicted_value, \" with \", predicted_accuracy, \" % accuracy\")"
      ],
      "metadata": {
        "id": "tVTHdTq0Gy0j"
      },
      "execution_count": null,
      "outputs": []
    },
    {
      "cell_type": "code",
      "source": [
        "waste_prediction(\"/content/Energiesparlampe_01_retouched.jpg\")"
      ],
      "metadata": {
        "colab": {
          "base_uri": "https://localhost:8080/",
          "height": 265
        },
        "id": "0tnV2tPCJLmI",
        "outputId": "66be8978-5b90-445d-aca0-6259d424f50c"
      },
      "execution_count": null,
      "outputs": [
        {
          "output_type": "display_data",
          "data": {
            "text/plain": [
              "<Figure size 432x288 with 1 Axes>"
            ],
            "image/png": "[encoded data removed]"
          },
          "metadata": {
            "needs_background": "light"
          }
        },
        {
          "output_type": "stream",
          "name": "stdout",
          "text": [
            "Your waste material is  metal  with  29.28  % accuracy\n"
          ]
        }
      ]
    },
    {
      "cell_type": "code",
      "source": [],
      "metadata": {
        "id": "z6jNZbzCKeaH"
      },
      "execution_count": null,
      "outputs": []
    }
  ]
}